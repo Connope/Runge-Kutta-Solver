{
 "cells": [
  {
   "cell_type": "markdown",
   "metadata": {},
   "source": [
    "This can be used to solve initial value problems of the form $\\frac{dx}{dt}=f(t,x)$, $x(t_0) = x_0$ using either explicit or diagonally implicit Runge Kutta methods, defined in the form of a Butcher Tableau. More information can be found here https://en.wikipedia.org/wiki/Runge%E2%80%93Kutta_methods."
   ]
  },
  {
   "cell_type": "markdown",
   "metadata": {},
   "source": [
    "## Implementation"
   ]
  },
  {
   "cell_type": "code",
   "execution_count": 1,
   "metadata": {},
   "outputs": [],
   "source": [
    "import math\n",
    "import matplotlib.pyplot as plt\n",
    "import numpy as np"
   ]
  },
  {
   "cell_type": "code",
   "execution_count": 2,
   "metadata": {},
   "outputs": [],
   "source": [
    "def newton(F, jacobian, x_0, t, epsilon, max_iterations = None):\n",
    "    \"\"\"\n",
    "    Performs Newton's method to find a root of a given equation F(x) = 0 within error epsilon. The equation can be\n",
    "    of arbitrary dimension.\n",
    "    \n",
    "    Parameters:\n",
    "    F: The function F you want to find the root of - should return an np array.\n",
    "    jacobian: A function which returns the Jacobian matrix (as an np array) of F evaluated at a point.\n",
    "    x_0: An initial starting estimate for the algorithm.\n",
    "    t: The time we are finding the root at (practically acts as a parameter for F).\n",
    "    epsilon: A bound on the norm of F. Stop the algorithm and output our root if we reach within this bound.\n",
    "    max_iterations: A number of iterations. If we do more than this many iterations then terminate the process.\n",
    "    \n",
    "    Returns:\n",
    "    The root we have found.\n",
    "    \n",
    "    Raises:\n",
    "    RuntimeError: If the method does not converge by max_iterations.\n",
    "    \n",
    "    \"\"\"\n",
    "    x = x_0\n",
    "    F_x = F(t, x)\n",
    "    k = 0\n",
    "    while np.linalg.norm(F_x) > epsilon:\n",
    "        jacobian_x = jacobian(t, x)\n",
    "        if (F_x.size > 1):\n",
    "            delta = np.linalg.solve(jacobian_x, F_x)\n",
    "        else:\n",
    "            delta = F_x[0] / jacobian_x[0]\n",
    "        x = x - delta\n",
    "        k += 1\n",
    "        F_x = F(t, x)\n",
    "        if max_iterations is not None and k > max_iterations:\n",
    "            raise RuntimeError(\"Newton method did not converge\")\n",
    "    return x"
   ]
  },
  {
   "cell_type": "code",
   "execution_count": 3,
   "metadata": {},
   "outputs": [],
   "source": [
    "def make_runge_kutta_F(f, h, t, alpha, z, beta):\n",
    "    \"\"\"\n",
    "    A helper function used to make the function F for the Newton method in the diagonally implicit\n",
    "    case.\n",
    "    \"\"\"\n",
    "    def runge_kutta_F(t, x):\n",
    "        return x - f(t + alpha * h, z + h * beta * x)\n",
    "    return runge_kutta_F"
   ]
  },
  {
   "cell_type": "code",
   "execution_count": 4,
   "metadata": {},
   "outputs": [],
   "source": [
    "def make_runge_kutta_jacobian(df, h, t, alpha, z, beta):\n",
    "    \"\"\"\n",
    "    A helper function used to make the derivative matrix df for the Newton method in the \n",
    "    diagonally implicit case.\n",
    "    \"\"\"\n",
    "    def runge_kutta_jacobian(t, x):\n",
    "        return np.eye(x.size) - h * beta * df(t + alpha * h, z + h * beta * x)\n",
    "    return runge_kutta_jacobian"
   ]
  },
  {
   "cell_type": "code",
   "execution_count": 5,
   "metadata": {},
   "outputs": [],
   "source": [
    "def runge_kutta(f, butcher, T, h, y_0, df = None, epsilon = None, max_iterations = None):\n",
    "    \"\"\"\n",
    "    Performs the Runge Kutta method to solve the ODE from time 0 to T.\n",
    "    \n",
    "    Parameters:\n",
    "    f: The right hand side function f.\n",
    "    butcher: An np array representing the butcher tableau of the method used.\n",
    "    T: The final time to solve the IVP at.\n",
    "    h: The timestep.\n",
    "    y_0: An np array containing the initial value at t = 0.\n",
    "    df: Only needed in the diagonally implicit case. A function which returns the Jacobian matrix \n",
    "        (as an np array) of f evaluated at a point.\n",
    "    epsilon: Only needed in the diagonally implicit case. The bound for Newton's method.\n",
    "    max_iterations: Only needed in the diagonally implicit case. Maximum iterations for Newton's method.\n",
    "    \n",
    "    Returns:\n",
    "    t: An np array of times which the IVP is solved on.\n",
    "    t_sol: An np array of solutions to the IVP at timesteps in t.\n",
    "    \"\"\"\n",
    "    N = int(T / h)\n",
    "    t = np.array([0])\n",
    "    dimension = y_0.size\n",
    "    y_sol = np.array(y_0)\n",
    "    \n",
    "    m = butcher.shape[0] - 1\n",
    "    alpha = np.array([butcher[i, 0] for i in range(m)])\n",
    "    gamma = butcher[-1][1:]\n",
    "    beta = butcher[0:-1, 1:]\n",
    "    \n",
    "    for j in range(N):\n",
    "        y_n = y_sol[-1]\n",
    "        for i in range(1, m + 1):\n",
    "            q = i - 1\n",
    "            if beta[q, q] == 0:\n",
    "                if q == 0:\n",
    "                    k = np.array([f(t[-1], y_n)])\n",
    "                    phi = gamma[0] * k[0]\n",
    "                else:\n",
    "                    sum_beta_k = 0\n",
    "                    for l in range(q):\n",
    "                        sum_beta_k += beta[q, l] * k[l]\n",
    "                    z = y_n + h * sum_beta_k\n",
    "                    k = np.vstack((k, np.array(f(t[-1] + alpha[q] * h, z))))\n",
    "                    phi += gamma[q] * k[q]\n",
    "            else:\n",
    "                if i == 0:\n",
    "                    z = y_n\n",
    "                else:\n",
    "                    sum_beta_k = 0\n",
    "                    for l in range(q):\n",
    "                        sum_beta_k += beta[q, l] * k[l]\n",
    "                    z = y_n + h * sum_beta_k\n",
    "                F = make_runge_kutta_F(f, h, t[-1], alpha[q], z, beta[q, q])\n",
    "                jacobian = make_runge_kutta_jacobian(df, h, t[j], alpha[q], z, beta[q, q])\n",
    "                if q == 0:\n",
    "                    k = np.array([newton(F, jacobian, f(t[-1] + alpha[q], z), t[-1], epsilon, max_iterations)])\n",
    "                    phi = gamma[0] * k[0]\n",
    "                else:\n",
    "                    k = np.vstack(k, np.array([newton(F, jacobian, f(t[-1] + alpha[q], z), t[-1], epsilon, max_iterations)]))\n",
    "                    phi += gamma[q] * k[q]\n",
    "        y_sol = np.vstack((y_sol, y_n + h * phi))\n",
    "        t = np.vstack((t, t[-1] + h))\n",
    "    return t, y_sol"
   ]
  },
  {
   "cell_type": "markdown",
   "metadata": {},
   "source": [
    "## Example"
   ]
  },
  {
   "cell_type": "markdown",
   "metadata": {},
   "source": [
    "An example of both an explicit and implicit method to solve the equation $\\frac{dy}{dt} = (1.5 - y + \\sin(2t))^2 + 2cos(2t)$, $y(0) = 1$.\n",
    "\n",
    "I have used both Heun's method and the Backward Euler method up to T = 10, and graphed the solutions given. I have also graphed the exact solution to show that the methods work."
   ]
  },
  {
   "cell_type": "code",
   "execution_count": 6,
   "metadata": {},
   "outputs": [],
   "source": [
    "def f_eq_diff2(t, y):\n",
    "    return np.array([((1.5 - y + math.sin(2 * t)) ** 2) + 2 * math.cos(2 * t)])"
   ]
  },
  {
   "cell_type": "code",
   "execution_count": 7,
   "metadata": {},
   "outputs": [],
   "source": [
    "def der_f_eq_eq_diff2(t, y):\n",
    "    return np.array([-2 * math.sin(2 * t) + 2 * y - 3])"
   ]
  },
  {
   "cell_type": "code",
   "execution_count": 8,
   "metadata": {},
   "outputs": [],
   "source": [
    "def exact_sol_diff2(h, T):\n",
    "    N = int(T / h)\n",
    "    times = [i * h for i in range(N + 1)]\n",
    "    sol = np.array([])\n",
    "    for t in times:\n",
    "        numerator = 1 + t * 1.5 * (1.5 - 1)\n",
    "        denominator = 1 + t * (1.5 - 1)\n",
    "        sol = np.append(sol, [math.sin(2 * t) + (numerator / denominator)])\n",
    "    return sol"
   ]
  },
  {
   "cell_type": "code",
   "execution_count": 9,
   "metadata": {},
   "outputs": [],
   "source": [
    "heun = np.array([[0, 0  , 0  ],\n",
    "                 [1, 1  , 0  ],\n",
    "                 [0, 0.5, 0.5]])\n",
    "\n",
    "backward_euler = np.array([[0, 1],\n",
    "                           [0, 1]])"
   ]
  },
  {
   "cell_type": "code",
   "execution_count": 10,
   "metadata": {},
   "outputs": [],
   "source": [
    "exact_sol = exact_sol_diff2(0.001, 10)"
   ]
  },
  {
   "cell_type": "code",
   "execution_count": 11,
   "metadata": {},
   "outputs": [],
   "source": [
    "t, sol = runge_kutta(f_eq_diff2, heun, 10, 0.001, np.array([1]))"
   ]
  },
  {
   "cell_type": "code",
   "execution_count": 12,
   "metadata": {},
   "outputs": [],
   "source": [
    "t, sol = runge_kutta(f_eq_diff2, backward_euler, 10, 0.001, np.array([1]), der_f_eq_eq_diff2, 0.0001, 500)"
   ]
  },
  {
   "cell_type": "code",
   "execution_count": 13,
   "metadata": {},
   "outputs": [
    {
     "data": {
      "text/plain": [
       "Text(0.5, 1.0, 'Exact Solution')"
      ]
     },
     "execution_count": 13,
     "metadata": {},
     "output_type": "execute_result"
    },
    {
     "data": {
      "image/png": "[encoded data removed]",
      "text/plain": [
       "<Figure size 432x288 with 1 Axes>"
      ]
     },
     "metadata": {
      "needs_background": "light"
     },
     "output_type": "display_data"
    }
   ],
   "source": [
    "plt.plot(t, exact_sol)\n",
    "plt.xlabel(\"t\")\n",
    "plt.ylabel(\"x\")\n",
    "plt.title(\"Exact Solution\")"
   ]
  },
  {
   "cell_type": "code",
   "execution_count": 14,
   "metadata": {},
   "outputs": [
    {
     "data": {
      "text/plain": [
       "Text(0.5, 1.0, 'Heun')"
      ]
     },
     "execution_count": 14,
     "metadata": {},
     "output_type": "execute_result"
    },
    {
     "data": {
      "image/png": "[encoded data removed]",
      "text/plain": [
       "<Figure size 432x288 with 1 Axes>"
      ]
     },
     "metadata": {
      "needs_background": "light"
     },
     "output_type": "display_data"
    }
   ],
   "source": [
    "plt.plot(t, sol)\n",
    "plt.xlabel(\"t\")\n",
    "plt.ylabel(\"x\")\n",
    "plt.title(\"Heun\")"
   ]
  },
  {
   "cell_type": "code",
   "execution_count": 15,
   "metadata": {},
   "outputs": [
    {
     "data": {
      "text/plain": [
       "Text(0.5, 1.0, 'Backward Euler')"
      ]
     },
     "execution_count": 15,
     "metadata": {},
     "output_type": "execute_result"
    },
    {
     "data": {
      "image/png": "[encoded data removed]",
      "text/plain": [
       "<Figure size 432x288 with 1 Axes>"
      ]
     },
     "metadata": {
      "needs_background": "light"
     },
     "output_type": "display_data"
    }
   ],
   "source": [
    "plt.plot(t, sol)\n",
    "plt.xlabel(\"t\")\n",
    "plt.ylabel(\"x\")\n",
    "plt.title(\"Backward Euler\")"
   ]
  }
 ],
 "metadata": {
  "kernelspec": {
   "display_name": "Python 3",
   "language": "python",
   "name": "python3"
  },
  "language_info": {
   "codemirror_mode": {
    "name": "ipython",
    "version": 3
   },
   "file_extension": ".py",
   "mimetype": "text/x-python",
   "name": "python",
   "nbconvert_exporter": "python",
   "pygments_lexer": "ipython3",
   "version": "3.7.4"
  }
 },
 "nbformat": 4,
 "nbformat_minor": 2
}
